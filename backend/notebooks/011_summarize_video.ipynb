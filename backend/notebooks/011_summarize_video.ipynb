{
 "cells": [
  {
   "cell_type": "code",
   "execution_count": 95,
   "id": "2c698450-eee9-450d-b0fb-ce090b342047",
   "metadata": {},
   "outputs": [],
   "source": [
    "import os\n",
    "os.chdir('../')"
   ]
  },
  {
   "cell_type": "code",
   "execution_count": 94,
   "id": "7a6cf28b-5064-413e-8213-87fa508719b6",
   "metadata": {},
   "outputs": [],
   "source": [
    "%load_ext autoreload\n",
    "%autoreload 2"
   ]
  },
  {
   "cell_type": "code",
   "execution_count": 97,
   "id": "488087a8-ac4b-4ecd-b9b1-5b5fede34b64",
   "metadata": {},
   "outputs": [],
   "source": [
    "from search import *\n",
    "from youtube_transcript_api import YouTubeTranscriptApi\n",
    "import requests\n",
    "from bs4 import BeautifulSoup\n",
    "from youtubesearchpython import VideosSearch"
   ]
  },
  {
   "cell_type": "code",
   "execution_count": 1,
   "id": "6ecb59d0-f48c-41e0-a54c-28ea29fdbb9f",
   "metadata": {},
   "outputs": [],
   "source": []
  },
  {
   "cell_type": "code",
   "execution_count": 10,
   "id": "7f08a86b-4cc4-4575-9a80-2aeeccf509ce",
   "metadata": {},
   "outputs": [],
   "source": [
    "api_key = ''"
   ]
  },
  {
   "cell_type": "code",
   "execution_count": 23,
   "id": "889d78bd-b1fc-4266-874a-d77ea246ae7b",
   "metadata": {},
   "outputs": [
    {
     "data": {
      "text/plain": [
       "{'status': 'success', 'sharing_url': 'https://300.ya.ru/7C4mjYIu'}"
      ]
     },
     "execution_count": 23,
     "metadata": {},
     "output_type": "execute_result"
    }
   ],
   "source": []
  },
  {
   "cell_type": "code",
   "execution_count": 24,
   "id": "e14b81e5-0964-4ce0-91af-23d25087a1ab",
   "metadata": {},
   "outputs": [
    {
     "data": {
      "text/plain": [
       "200"
      ]
     },
     "execution_count": 24,
     "metadata": {},
     "output_type": "execute_result"
    }
   ],
   "source": [
    "response = response.json()\n",
    "if response['status'] == 'success':\n",
    "    url = response['sharing_url']\n",
    "    resp = requests.get(url)\n",
    "resp.status_code"
   ]
  },
  {
   "cell_type": "code",
   "execution_count": 31,
   "id": "2195bc7a-ace1-4714-972c-98223910b404",
   "metadata": {
    "tags": []
   },
   "outputs": [
    {
     "name": "stdout",
     "output_type": "stream",
     "text": [
      "<div class=\"summary-text svelte-tiidzr\"><h1 class=\"title svelte-1xfo2l\">Как правильно анализировать конкурентов – Учебка ЛидМашины </h1> <ul class=\"theses svelte-11a0vor\"><li class=\"thesis svelte-11a0vor thesis-link\"><a class=\"svelte-11a0vor\" href=\"https://leadmachine.ru/2019/03/22/kak-pravilno-analizirovat-konkurentov/#:~:text=%D0%92%D0%BE%D1%82%20%D0%BA%D0%BE%D0%BC%D0%BF%D0%B0%D0%BD%D0%B8%D0%B8%2D%D0%BA%D0%BE%D0%BD%D0%BA%D1%83%D1%80%D0%B5%D0%BD%D1%82%D1%8B%20%D0%BD%D0%B0%D1%88%D0%B5%D0%B3%D0%BE%20%D0%B8%D0%BD%D1%82%D0%B5%D1%80%D0%BD%D0%B5%D1%82%2D%D0%BC%D0%B0%D0%B3%D0%B0%D0%B7%D0%B8%D0%BD%D0%B0%20%D0%BB%D1%8E%D1%81%D1%82%D1%80%3A\" target=\"_blank\"> <pre class=\"thesis-content svelte-1g58soo\"><p class=\"thesis-text svelte-1g58soo\"><span class=\"text-wrapper\"><span class=\"hidden-bullet svelte-1g58soo\" data-svelte-h=\"svelte-nkm90c\">• </span>Статья предлагает анализ конкурентов для интернет-магазинов люстр.</span><span class=\"icon-wrapper svelte-1g58soo\"> <img alt=\"Ссылка\" class=\"icon link-icon svelte-o2z6ut\" height=\"16\" src=\"https://yastatic.net/s3/distribution/stardust/browser-summary-web/1.21.0/_app/immutable/assets/link.4ad2f620.svg\" width=\"16\"/></span></p></pre> </a> </li><li class=\"thesis svelte-11a0vor thesis-link\"><a class=\"svelte-11a0vor\" href=\"https://leadmachine.ru/2019/03/22/kak-pravilno-analizirovat-konkurentov/#:~:text=%D0%A2%D0%B0%D0%BA%20%D1%87%D1%82%D0%BE%20%D0%B2%D1%8B%D0%BF%D0%B8%D1%88%D0%B8%D1%82%D0%B5%20%D0%B2%D1%81%D0%B5%D1%85%20%D0%BA%D0%BE%D0%BD%D0%BA%D1%83%D1%80%D0%B5%D0%BD%D1%82%D0%BE%D0%B2%2C%20%D0%BA%D0%BE%D1%82%D0%BE%D1%80%D1%8B%D0%B5%20%D1%80%D0%B0%D0%B7%D0%BC%D0%B5%D1%89%D0%B0%D1%8E%D1%82%D1%81%D1%8F%20%D0%BF%D0%BE%203%2D4%20%D1%81%D0%B0%D0%BC%D1%8B%D0%BC%20%D0%B2%D1%8B%D1%81%D0%BE%D0%BA%D0%BE%D1%87%D0%B0%D1%81%D1%82%D0%BE%D1%82%D0%BD%D1%8B%D0%BC%20%D0%B7%D0%B0%D0%BF%D1%80%D0%BE%D1%81%D0%B0%D0%BC.\" target=\"_blank\"> <pre class=\"thesis-content svelte-1g58soo\"><p class=\"thesis-text svelte-1g58soo\"><span class=\"text-wrapper\"><span class=\"hidden-bullet svelte-1g58soo\" data-svelte-h=\"svelte-nkm90c\">• </span>Важно определить конкурентов, размещающихся по высокочастотным запросам.</span><span class=\"icon-wrapper svelte-1g58soo\"> <img alt=\"Ссылка\" class=\"icon link-icon svelte-o2z6ut\" height=\"16\" src=\"https://yastatic.net/s3/distribution/stardust/browser-summary-web/1.21.0/_app/immutable/assets/link.4ad2f620.svg\" width=\"16\"/></span></p></pre> </a> </li><li class=\"thesis svelte-11a0vor thesis-link\"><a class=\"svelte-11a0vor\" href=\"https://leadmachine.ru/2019/03/22/kak-pravilno-analizirovat-konkurentov/#:~:text=%D0%90%D0%BA%D1%82%D1%83%D0%B0%D0%BB%D0%B5%D0%BD%20%D0%BB%D0%B8%20%D0%B8%20%D0%BF%D0%BE%D0%BB%D0%B5%D0%B7%D0%B5%D0%BD%20%D0%BA%D0%BE%D0%BD%D1%82%D0%B5%D0%BD%D1%82%3F\" target=\"_blank\"> <pre class=\"thesis-content svelte-1g58soo\"><p class=\"thesis-text svelte-1g58soo\"><span class=\"text-wrapper\"><span class=\"hidden-bullet svelte-1g58soo\" data-svelte-h=\"svelte-nkm90c\">• </span>Анализ конкурентов включает оценку дизайна, юзабилити и контента сайтов.</span><span class=\"icon-wrapper svelte-1g58soo\"> <img alt=\"Ссылка\" class=\"icon link-icon svelte-o2z6ut\" height=\"16\" src=\"https://yastatic.net/s3/distribution/stardust/browser-summary-web/1.21.0/_app/immutable/assets/link.4ad2f620.svg\" width=\"16\"/></span></p></pre> </a> </li><li class=\"thesis svelte-11a0vor thesis-link\"><a class=\"svelte-11a0vor\" href=\"https://leadmachine.ru/2019/03/22/kak-pravilno-analizirovat-konkurentov/#:~:text=%D0%95%D1%81%D0%BB%D0%B8%20%D0%B2%D0%B0%D1%88%D0%B8%20%D0%BA%D0%BE%D0%BD%D0%BA%D1%83%D1%80%D0%B5%D0%BD%D1%82%D1%8B%20%D0%B8%D1%81%D0%BF%D0%BE%D0%BB%D1%8C%D0%B7%D1%83%D1%8E%D1%82%20%D0%BF%D0%BB%D0%B0%D1%82%D0%BD%D1%8B%D0%B5%20%D0%B8%D1%81%D1%82%D0%BE%D1%87%D0%BD%D0%B8%D0%BA%D0%B8%20%D1%82%D1%80%D0%B0%D1%84%D0%B8%D0%BA%D0%B0%2C%20%D1%82%D0%BE%20%D0%BE%20%D0%BD%D0%B8%D1%85%20%D0%BD%D1%83%D0%B6%D0%BD%D0%BE%20%D0%B7%D0%BD%D0%B0%D1%82%D1%8C%20%D0%B2%D1%81%D1%91.\" target=\"_blank\"> <pre class=\"thesis-content svelte-1g58soo\"><p class=\"thesis-text svelte-1g58soo\"><span class=\"text-wrapper\"><span class=\"hidden-bullet svelte-1g58soo\" data-svelte-h=\"svelte-nkm90c\">• </span>Важно знать источники трафика конкурентов для понимания неиспользованных каналов.</span><span class=\"icon-wrapper svelte-1g58soo\"> <img alt=\"Ссылка\" class=\"icon link-icon svelte-o2z6ut\" height=\"16\" src=\"https://yastatic.net/s3/distribution/stardust/browser-summary-web/1.21.0/_app/immutable/assets/link.4ad2f620.svg\" width=\"16\"/></span></p></pre> </a> </li><li class=\"thesis svelte-11a0vor thesis-link\"><a class=\"svelte-11a0vor\" href=\"https://leadmachine.ru/2019/03/22/kak-pravilno-analizirovat-konkurentov/#:~:text=%D0%90%D0%BD%D0%B0%D0%BB%D0%B8%D0%B7%20%D0%BA%D0%BE%D0%BD%D0%BA%D1%83%D1%80%D0%B5%D0%BD%D1%82%D0%BE%D0%B2%20%E2%80%94%20%D0%BD%D0%B5%20%D1%80%D0%B0%D0%B7%D0%BE%D0%B2%D0%BE%D0%B5%20%D0%B7%D0%B0%D0%BD%D1%8F%D1%82%D0%B8%D0%B5.\" target=\"_blank\"> <pre class=\"thesis-content svelte-1g58soo\"><p class=\"thesis-text svelte-1g58soo\"><span class=\"text-wrapper\"><span class=\"hidden-bullet svelte-1g58soo\" data-svelte-h=\"svelte-nkm90c\">• </span>Анализ конкурентов должен проводиться регулярно и отслеживать появление новых игроков.</span><span class=\"icon-wrapper svelte-1g58soo\"> <img alt=\"Ссылка\" class=\"icon link-icon svelte-o2z6ut\" height=\"16\" src=\"https://yastatic.net/s3/distribution/stardust/browser-summary-web/1.21.0/_app/immutable/assets/link.4ad2f620.svg\" width=\"16\"/></span></p></pre> </a> </li><li class=\"thesis svelte-11a0vor thesis-link\"><a class=\"svelte-11a0vor\" href=\"https://leadmachine.ru/2019/03/22/kak-pravilno-analizirovat-konkurentov/#:~:text=%D0%91%D0%B0%D0%BD%D0%B0%D0%BB%D1%8C%D0%BD%D0%BE%2C%20%D0%BD%D0%BE%20%D1%84%D0%B0%D0%BA%D1%82%3A%20%D0%B5%D1%81%D0%BB%D0%B8%20%D0%B7%D0%BD%D0%B0%D1%82%D1%8C%20%D1%81%D0%B8%D0%BB%D1%8C%D0%BD%D1%8B%D0%B5%20%D0%B8%20%D1%81%D0%BB%D0%B0%D0%B1%D1%8B%D0%B5%20%D1%81%D1%82%D0%BE%D1%80%D0%BE%D0%BD%D1%8B%20%D0%BA%D0%BE%D0%BD%D0%BA%D1%83%D1%80%D0%B5%D0%BD%D1%82%D0%B0%2C%20%D0%BC%D0%BE%D0%B6%D0%BD%D0%BE%20%D0%B2%D1%81%D0%B5%D0%B3%D0%B4%D0%B0%20%D0%B1%D1%8B%D1%82%D1%8C%20%D0%BD%D0%B0%20%D1%88%D0%B0%D0%B3%20%D0%B2%D0%BF%D0%B5%D1%80%D0%B5%D0%B4%D0%B8%20%D0%BD%D0%B5%D0%B3%D0%BE.\" target=\"_blank\"> <pre class=\"thesis-content svelte-1g58soo\"><p class=\"thesis-text svelte-1g58soo\"><span class=\"text-wrapper\"><span class=\"hidden-bullet svelte-1g58soo\" data-svelte-h=\"svelte-nkm90c\">• </span>Знание сильных и слабых сторон конкурента позволяет быть на шаг впереди.</span><span class=\"icon-wrapper svelte-1g58soo\"> <img alt=\"Ссылка\" class=\"icon link-icon svelte-o2z6ut\" height=\"16\" src=\"https://yastatic.net/s3/distribution/stardust/browser-summary-web/1.21.0/_app/immutable/assets/link.4ad2f620.svg\" width=\"16\"/></span></p></pre> </a> </li></ul> </div>\n"
     ]
    }
   ],
   "source": [
    "from bs4 import BeautifulSoup\n",
    "root = BeautifulSoup(resp.content.decode('utf-8'))\n",
    "print(str(root.find(attrs={'class':'summary-text'})))"
   ]
  },
  {
   "cell_type": "code",
   "execution_count": 29,
   "id": "aef3d588-417c-4112-8e6c-0671e6f47a80",
   "metadata": {
    "tags": []
   },
   "outputs": [
    {
     "name": "stdout",
     "output_type": "stream",
     "text": [
      "['youtube.com/watch?v=oWW5TLrrbNo']\n"
     ]
    }
   ],
   "source": [
    "from youtubesearchpython import VideosSearch\n",
    "\n",
    "videosSearch = VideosSearch('NoCopyrightSounds', limit = 1)\n",
    "\n",
    "urls = list(map(lambda x: f'youtube.com/watch?v={x[\"id\"]}', videosSearch.result()['result']))\n",
    "print(urls)"
   ]
  },
  {
   "cell_type": "code",
   "execution_count": 89,
   "id": "fe34de5b-9b79-48b3-a514-42dc17008f6d",
   "metadata": {},
   "outputs": [],
   "source": [
    "from youtubesearchpython import VideosSearch\n",
    "from bs4 import BeautifulSoup\n",
    "import requests\n",
    "\n",
    "def find_youtube_video(query):\n",
    "    videosSearch = VideosSearch(query, limit = 1)\n",
    "    # urls = list(map(lambda x: f'https://youtube.com/watch?v={x[\"id\"]}', videosSearch.result()['result']))\n",
    "    try:\n",
    "        return videosSearch.result()['result'][0]['id']\n",
    "    except Exception as e:\n",
    "        print(e)\n",
    "    return None\n",
    "\n",
    "def send_url_to_summarize(url, yandex_api_key):\n",
    "    endpoint = 'https://300.ya.ru/api/sharing-url'\n",
    "    response = requests.post(\n",
    "        endpoint,\n",
    "        json = {\n",
    "          'article_url': url\n",
    "        },\n",
    "        headers = {'Authorization': f'OAuth {yandex_api_key}'}\n",
    "    )\n",
    "    response = response.json()\n",
    "    if response['status'] != 'success':\n",
    "        print(response['status'])\n",
    "        print(response)\n",
    "        return None\n",
    "    return response['sharing_url']\n",
    "\n",
    "def parse_300_ya_ru(sharing_url):\n",
    "    resp = requests.get(sharing_url)\n",
    "    root = BeautifulSoup(resp.content.decode('utf-8'))\n",
    "    return root.find(attrs={'class':'summary-text'})\n",
    "\n",
    "\n",
    "def summarize_video(query, yandex_api_key):\n",
    "    url = find_youtube_video(query)\n",
    "    print(url)\n",
    "    # url = 'https://www.youtube.com/watch?v=iFfN116ATQg'\n",
    "    # url = 'https://habr.com'\n",
    "    sharing_url = send_url_to_summarize(url, yandex_api_key)\n",
    "    if sharing_url is None:\n",
    "        return None\n",
    "    print(sharing_url)\n",
    "    return parse_300_ya_ru(sharing_url)\n",
    "    "
   ]
  },
  {
   "cell_type": "code",
   "execution_count": 76,
   "id": "69b6be19-189e-469f-963a-b1b1f3c62ef7",
   "metadata": {},
   "outputs": [
    {
     "name": "stdout",
     "output_type": "stream",
     "text": [
      "https://youtube.com/watch?v=n84fl_HaXjs\n",
      "error\n",
      "{'status': 'error', 'message': 'not found'}\n"
     ]
    },
    {
     "ename": "AttributeError",
     "evalue": "'NoneType' object has no attribute 'text'",
     "output_type": "error",
     "traceback": [
      "\u001b[0;31m---------------------------------------------------------------------------\u001b[0m",
      "\u001b[0;31mAttributeError\u001b[0m                            Traceback (most recent call last)",
      "Cell \u001b[0;32mIn[76], line 2\u001b[0m\n\u001b[1;32m      1\u001b[0m res \u001b[38;5;241m=\u001b[39m summarize_video(\u001b[38;5;124m'\u001b[39m\u001b[38;5;124mновости\u001b[39m\u001b[38;5;124m'\u001b[39m, api_key)\n\u001b[0;32m----> 2\u001b[0m res\u001b[38;5;241m.\u001b[39mtext\n",
      "\u001b[0;31mAttributeError\u001b[0m: 'NoneType' object has no attribute 'text'"
     ]
    }
   ],
   "source": [
    "res = summarize_video('новости', api_key)\n",
    "res.text"
   ]
  },
  {
   "cell_type": "code",
   "execution_count": 100,
   "id": "527bfb12-93d1-49d1-b4d7-8daaa08d7418",
   "metadata": {},
   "outputs": [],
   "source": [
    "def get_video_transcription(query):\n",
    "    video_id = find_youtube_video(query)\n",
    "    print(f'https://youtube.com/watch?v={video_id}')\n",
    "    transcribe = YouTubeTranscriptApi.get_transcript(video_id, languages=('ru',))\n",
    "    total_len = 0\n",
    "    i = 0\n",
    "    lines = []\n",
    "    while total_len < 5000 and i < len(transcribe):\n",
    "        text = transcribe[i]['text']\n",
    "        lines.append(text)\n",
    "        total_len += len(text)\n",
    "        i += 1\n",
    "\n",
    "    transcribe = ' '.join(lines)\n",
    "    return transcribe"
   ]
  },
  {
   "cell_type": "code",
   "execution_count": 102,
   "id": "cbfc0867-f789-4bf7-a4a3-a8e3c1f62858",
   "metadata": {},
   "outputs": [
    {
     "name": "stdout",
     "output_type": "stream",
     "text": [
      "https://youtube.com/watch?v=lggg2Fzry3k\n"
     ]
    },
    {
     "data": {
      "text/plain": [
       "'**Краткий отчёт по анализу общего рынка газа Евразийского экономического союза (ЕАЭС)**\\n\\n1. Решение о создании общего рынка газа ЕАЭС было принято главами государств-членов и закреплено в договоре ЕАЭС от 9 мая 2014 года.\\n\\n2. Основными целями формирования общего рынка газа являются повышение экономической эффективности использования газотранспортных систем, повышение энергетической безопасности государств-членов, а также надёжности, доступности и качества газоснабжения.\\n\\n3. Формирование общего рынка газа осуществляется в соответствии с основными принципами формирования общих энергетических рынков, закреплёнными в статье 79 договора ЕАЭС и основных принципах приложения 22.\\n\\n4. Газовые рынки государств-членов ЕАЭС имеют различный уровень развития и обеспеченности газом, что определяет цены на данный ресурс внутри стран и их участие в международной торговле.\\n\\n5. Целевая модель общего рынка газа предусматривает взаимную торговлю газом между участниками общего рынка всех государств-членов через обеспечение доступа к услугам инфраструктурных организаций.'"
      ]
     },
     "execution_count": 102,
     "metadata": {},
     "output_type": "execute_result"
    }
   ],
   "source": [
    "search_api_key = ''\n",
    "video = get_video_transcription('рынок газа')\n",
    "summarization = ask_yagpt(make_prompt_by_html(video), search_api_key, 'yandexgpt')\n",
    "summarization"
   ]
  },
  {
   "cell_type": "code",
   "execution_count": null,
   "id": "ea89eeeb-3552-4642-b8d1-10b1d76a18af",
   "metadata": {},
   "outputs": [],
   "source": []
  }
 ],
 "metadata": {
  "kernelspec": {
   "display_name": "Python 3 (ipykernel)",
   "language": "python",
   "name": "python3"
  },
  "language_info": {
   "codemirror_mode": {
    "name": "ipython",
    "version": 3
   },
   "file_extension": ".py",
   "mimetype": "text/x-python",
   "name": "python",
   "nbconvert_exporter": "python",
   "pygments_lexer": "ipython3",
   "version": "3.11.0"
  }
 },
 "nbformat": 4,
 "nbformat_minor": 5
}
