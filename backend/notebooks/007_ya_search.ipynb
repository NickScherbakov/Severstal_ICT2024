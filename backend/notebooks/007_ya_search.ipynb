{
 "cells": [
  {
   "cell_type": "code",
   "execution_count": 1,
   "id": "f136d98f-6028-4cb0-ad1c-2ce72d9063bc",
   "metadata": {},
   "outputs": [],
   "source": [
    "import os\n",
    "os.chdir('../')"
   ]
  },
  {
   "cell_type": "code",
   "execution_count": 2,
   "id": "a43c59fe-43cb-4e8d-b62a-a8d9ab962f91",
   "metadata": {},
   "outputs": [],
   "source": [
    "%load_ext autoreload\n",
    "%autoreload 2"
   ]
  },
  {
   "cell_type": "code",
   "execution_count": 30,
   "id": "c9221513-96cc-4b8a-965d-017e226ec024",
   "metadata": {},
   "outputs": [],
   "source": [
    "key_id = 'ajek9q6feesr95urm9r9'\n",
    "user = 'searcher'\n",
    "api_key = ''\n"
   ]
  },
  {
   "cell_type": "code",
   "execution_count": 25,
   "id": "02262be3-d311-4db3-8048-380ff24fc9b8",
   "metadata": {},
   "outputs": [],
   "source": [
    "# import pandas as pd\n",
    "import xml.etree.ElementTree as ET\n",
    "import requests\n",
    "from io import StringIO\n",
    "\n",
    "def parse_doc(doc, position):\n",
    "    passages = []\n",
    "    passages_obj = doc.find('passages')\n",
    "    if passages_obj:\n",
    "        for passage in passages_obj:\n",
    "            passage = ''.join(list(passage.itertext()))\n",
    "            if passage:\n",
    "                passages.append(passage)\n",
    "    return {\n",
    "        'url': doc.find('url').text,\n",
    "        'domain': doc.find('domain').text,\n",
    "        'title': doc.find('title').text,\n",
    "        'size': int(doc.find('size').text),\n",
    "        # 'mime-type': doc.find('mime-type').text,\n",
    "        'passages': passages,\n",
    "        'position': position\n",
    "    }\n",
    "\n",
    "def ya_search(query):\n",
    "    url = f'https://yandex.ru/search/xml?query={query}&l10n=ru&sortby=rlv&maxpassages=1'\n",
    "    # url = f'https://yandex.ru/search/xml?query={query}&l10n=ru&sortby=rlv&filter=none&maxpassages=1&groupby=attr%253D.mode%253Dflat.groups-on-page%253D10.docs-in-group%253D1'\n",
    "    headers = {\n",
    "        'Authorization': f'Api-Key {api_key}'\n",
    "    }\n",
    "    response = requests.get(url, headers=headers)\n",
    "    print(response.content.decode('utf-8'))\n",
    "    if response.status_code != 200:\n",
    "        raise ValueError(f'Search API status code {response.status_code}\\n\\nContent: {response.content}')\n",
    "    return get_serp_from_xml(StringIO(response.content.decode('utf-8')))\n",
    "\n",
    "def get_serp_from_xml(content):\n",
    "    tree = ET.parse(content)\n",
    "    root = tree.getroot().find('response')\n",
    "    serp = []\n",
    "    position = 1\n",
    "    for group in root.find('results').find('grouping'):\n",
    "        if group.tag == 'group':\n",
    "            doc = group.find('doc')\n",
    "            serp.append(parse_doc(doc, position))\n",
    "            position += 1\n",
    "    return serp"
   ]
  },
  {
   "cell_type": "code",
   "execution_count": 28,
   "id": "514dbb3f-c9c4-4866-8d77-2faeb86a0fe2",
   "metadata": {},
   "outputs": [],
   "source": []
  },
  {
   "cell_type": "code",
   "execution_count": 29,
   "id": "7f90dc26-6b94-4700-a3da-14170e47c565",
   "metadata": {},
   "outputs": [
    {
     "data": {
      "text/plain": [
       "[{'url': 'https://ru.wikipedia.org/wiki/%D0%98%D0%BD%D1%84%D0%BB%D1%8F%D1%86%D0%B8%D1%8F',\n",
       "  'domain': 'ru.wikipedia.org',\n",
       "  'title': None,\n",
       "  'size': 7162,\n",
       "  'passages': [],\n",
       "  'position': 1},\n",
       " {'url': 'https://tr-page.yandex.ru/translate?lang=en-ru&url=https%3A%2F%2Fen.wikipedia.org%2Fwiki%2FInflation',\n",
       "  'domain': 'tr-page.yandex.ru',\n",
       "  'title': None,\n",
       "  'size': 11415,\n",
       "  'passages': ['Концептуально инфляция относится к общей тенденции цен, а не к изменениям какой-либо...'],\n",
       "  'position': 2},\n",
       " {'url': 'https://www.banki.ru/news/daytheme/?id=10971168',\n",
       "  'domain': 'www.banki.ru',\n",
       "  'title': None,\n",
       "  'size': 3269,\n",
       "  'passages': ['Разбираемся, что такое инфляция, почему рост цен — это не всегда плохо и почему такой...'],\n",
       "  'position': 3},\n",
       " {'url': 'https://cbr.ru/dkp/about_inflation/',\n",
       "  'domain': 'cbr.ru',\n",
       "  'title': 'Что такое ',\n",
       "  'size': 1668,\n",
       "  'passages': ['Инфляция может быть вызвана ростом издержек на производство и реализацию единицы...'],\n",
       "  'position': 4},\n",
       " {'url': 'https://www.youtube.com/watch?v=3KgBQ0MDddI',\n",
       "  'domain': 'www.youtube.com',\n",
       "  'title': 'Что такое ',\n",
       "  'size': 528,\n",
       "  'passages': ['...платформой МТС Маркетолог - https://l.mts.ru/marketolog_ermakovЧто такое инфляция прост...'],\n",
       "  'position': 5},\n",
       " {'url': 'https://foxford.ru/wiki/obschestvoznanie/inflyatsiya',\n",
       "  'domain': 'foxford.ru',\n",
       "  'title': None,\n",
       "  'size': 2040,\n",
       "  'passages': ['В зависимости от рыночных факторов различают инфляцию спроса и инфляцию со стороны...'],\n",
       "  'position': 6},\n",
       " {'url': 'https://journal.tinkoff.ru/inflation/',\n",
       "  'domain': 'journal.tinkoff.ru',\n",
       "  'title': None,\n",
       "  'size': 8416,\n",
       "  'passages': ['Идеальная ситуация для экономического роста в стране — небольшая инфляция 1—2%.'],\n",
       "  'position': 7},\n",
       " {'url': 'https://secrets.tinkoff.ru/glossarij/inflyaciya/',\n",
       "  'domain': 'secrets.tinkoff.ru',\n",
       "  'title': None,\n",
       "  'size': 3460,\n",
       "  'passages': ['В статье расскажем, как возникает инфляция и в чем ее опасность для бизнеса.'],\n",
       "  'position': 8},\n",
       " {'url': 'https://skillbox.ru/media/business/chto-takoe-inflyatsiya-pochemu-ona-rastyet-i-kak-sokhranit-dengi-v-2023-godu/',\n",
       "  'domain': 'skillbox.ru',\n",
       "  'title': None,\n",
       "  'size': 3594,\n",
       "  'passages': ['Почему возникает инфляция и почему она росла в 2023 году.'],\n",
       "  'position': 9},\n",
       " {'url': 'https://bigenc.ru/c/infliatsiia-23b473',\n",
       "  'domain': 'bigenc.ru',\n",
       "  'title': None,\n",
       "  'size': 1435,\n",
       "  'passages': ['Инфляцию разделяют на инфляцию спроса и инфляцию издержек.'],\n",
       "  'position': 10}]"
      ]
     },
     "execution_count": 29,
     "metadata": {},
     "output_type": "execute_result"
    }
   ],
   "source": [
    "ya_search('инфляция')"
   ]
  },
  {
   "cell_type": "code",
   "execution_count": 12,
   "id": "e2407857-1a4c-4912-8beb-2998ac036e7f",
   "metadata": {},
   "outputs": [
    {
     "data": {
      "text/plain": [
       "200"
      ]
     },
     "execution_count": 12,
     "metadata": {},
     "output_type": "execute_result"
    }
   ],
   "source": []
  },
  {
   "cell_type": "code",
   "execution_count": 16,
   "id": "201e1429-8edc-49c4-b7ac-a028f5bc98ee",
   "metadata": {},
   "outputs": [
    {
     "data": {
      "text/plain": [
       "'https://yandex.ru/search/xml?query=инфляция&l10n=ru&sortby=rlv&filter=none&maxpassages=1&groupby=attr%253D.mode%253Dflat.groups-on-page%253D10.docs-in-group%253D1'"
      ]
     },
     "execution_count": 16,
     "metadata": {},
     "output_type": "execute_result"
    }
   ],
   "source": [
    "url"
   ]
  },
  {
   "cell_type": "code",
   "execution_count": 15,
   "id": "cd310b3e-a956-4542-98c2-7a79e11b0809",
   "metadata": {},
   "outputs": [
    {
     "data": {
      "text/plain": [
       "[{'url': 'https://ya.ru/',\n",
       "  'domain': 'ya.ru',\n",
       "  'title': None,\n",
       "  'size': 199,\n",
       "  'mime-type': 'text/html',\n",
       "  'passages': ['Подборка от Яндекс Маркета. Пиджак.'],\n",
       "  'position': 1},\n",
       " {'url': 'https://yandex.ru/all',\n",
       "  'domain': 'yandex.ru',\n",
       "  'title': 'Все сервисы ',\n",
       "  'size': 2129,\n",
       "  'mime-type': 'text/html',\n",
       "  'passages': ['Яндекс IDЕдиный аккаунт для Яндекса и быстрого входа на другие сайты.'],\n",
       "  'position': 2},\n",
       " {'url': 'https://www.youtube.com/channel/UCixlrqz8w-oa4UzdKyHLMaA',\n",
       "  'domain': 'www.youtube.com',\n",
       "  'title': None,\n",
       "  'size': 138,\n",
       "  'mime-type': 'text/html',\n",
       "  'passages': [],\n",
       "  'position': 3},\n",
       " {'url': 'https://yandex.ru/company/',\n",
       "  'domain': 'yandex.ru',\n",
       "  'title': 'Компания ',\n",
       "  'size': 610,\n",
       "  'mime-type': 'text/html',\n",
       "  'passages': ['Официальный сайт компании «Яндекс». Последние новости о сервисах Яндекса: Алиса, поиск, умные устройства, карты, погода, такси, переводчик, браузер и другие технологии и продукты компании.'],\n",
       "  'position': 4},\n",
       " {'url': 'https://dzen.ru/Yandex',\n",
       "  'domain': 'dzen.ru',\n",
       "  'title': None,\n",
       "  'size': 2091,\n",
       "  'mime-type': 'text/html',\n",
       "  'passages': [],\n",
       "  'position': 5},\n",
       " {'url': 'https://vk.com/yandex',\n",
       "  'domain': 'vk.com',\n",
       "  'title': None,\n",
       "  'size': 4350,\n",
       "  'mime-type': 'text/html',\n",
       "  'passages': ['Их готовят HR-директор Яндекса Дарья Золотухина, технический директор Поиска Алексей Гусаков и глава ecom-сервисов Роман Маресов.'],\n",
       "  'position': 6},\n",
       " {'url': 'https://yandex.az/',\n",
       "  'domain': 'yandex.az',\n",
       "  'title': None,\n",
       "  'size': 88,\n",
       "  'mime-type': 'text/html',\n",
       "  'passages': [],\n",
       "  'position': 7},\n",
       " {'url': 'https://market.yandex.ru/',\n",
       "  'domain': 'market.yandex.ru',\n",
       "  'title': 'Интернет-магазин ',\n",
       "  'size': 1907,\n",
       "  'mime-type': 'text/html',\n",
       "  'passages': [],\n",
       "  'position': 8},\n",
       " {'url': 'https://music.yandex.ru/home?=',\n",
       "  'domain': 'music.yandex.ru',\n",
       "  'title': None,\n",
       "  'size': 738,\n",
       "  'mime-type': 'text/html',\n",
       "  'passages': [],\n",
       "  'position': 9},\n",
       " {'url': 'https://yandex.ru/support/mail/',\n",
       "  'domain': 'yandex.ru',\n",
       "  'title': 'О ',\n",
       "  'size': 1151,\n",
       "  'mime-type': 'text/html',\n",
       "  'passages': ['Яндекс Почта — это бесплатный, надежный и удобный сервис электронной почты со встроенным переводчиком и защитой от спама и вирусов.'],\n",
       "  'position': 10}]"
      ]
     },
     "execution_count": 15,
     "metadata": {},
     "output_type": "execute_result"
    }
   ],
   "source": []
  },
  {
   "cell_type": "code",
   "execution_count": null,
   "id": "5d4196e5-763f-4ceb-8d91-0e349a016827",
   "metadata": {},
   "outputs": [],
   "source": []
  }
 ],
 "metadata": {
  "kernelspec": {
   "display_name": "Python 3 (ipykernel)",
   "language": "python",
   "name": "python3"
  },
  "language_info": {
   "codemirror_mode": {
    "name": "ipython",
    "version": 3
   },
   "file_extension": ".py",
   "mimetype": "text/x-python",
   "name": "python",
   "nbconvert_exporter": "python",
   "pygments_lexer": "ipython3",
   "version": "3.11.0"
  }
 },
 "nbformat": 4,
 "nbformat_minor": 5
}
