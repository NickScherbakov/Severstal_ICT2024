{
 "cells": [
  {
   "cell_type": "code",
   "execution_count": 2,
   "id": "d1f6599b-da77-4404-97b9-51348373aa21",
   "metadata": {},
   "outputs": [],
   "source": [
    "import os\n",
    "os.chdir('../')"
   ]
  },
  {
   "cell_type": "code",
   "execution_count": 45,
   "id": "20b71416-b3e5-4168-bdfb-324f6098284a",
   "metadata": {},
   "outputs": [],
   "source": [
    "from ruwordnet import RuWordNet\n",
    "import pickle\n",
    "from search import normalize_string\n",
    "import pymorphy3\n",
    "from functools import reduce\n",
    "wn = RuWordNet()\n",
    "morph = pymorphy3.MorphAnalyzer()"
   ]
  },
  {
   "cell_type": "code",
   "execution_count": 71,
   "id": "b5b469cd-4e52-4cbb-a9c8-f5a77465c846",
   "metadata": {},
   "outputs": [],
   "source": [
    "def enrich_word(word):\n",
    "    return set([lexeme.word for lexeme in morph.parse(word)[0].lexeme])"
   ]
  },
  {
   "cell_type": "code",
   "execution_count": 84,
   "id": "c2c2c466-3dfb-45b7-9ea8-e07b844a860f",
   "metadata": {},
   "outputs": [],
   "source": [
    "def enrich_word_set(new_words_list):\n",
    "    word_set = set()\n",
    "    for new_word in new_words_list:\n",
    "        new_word_set = set(normalize_string(new_word.title).split())\n",
    "        word_set = word_set.union(new_word_set)\n",
    "    return word_set"
   ]
  },
  {
   "cell_type": "code",
   "execution_count": 81,
   "id": "f4963bca-3de5-42c3-9545-24784b37a869",
   "metadata": {},
   "outputs": [],
   "source": [
    "query = 'эмиссия денег'\n",
    "query = normalize_string(query).split()\n",
    "query = [set(query)] + list(map(enrich_word, query))\n",
    "\n",
    "query = reduce(lambda a, b: a.union(b), query)\n",
    "senses = []\n",
    "for word in query:\n",
    "    new_senses = wn.get_senses(word)\n",
    "    for sense in new_senses:\n",
    "        senses.append(sense)\n",
    "    \n",
    "query_enrichment = set()\n",
    "\n",
    "for sense in senses:\n",
    "    synset = sense.synset\n",
    "    \n",
    "    word_set = set(normalize_string(synset.title).split())\n",
    "    query_enrichment = query_enrichment | word_set\n",
    "    query_enrichment = query_enrichment | enrich_word_set(synset.pos_synonyms)\n",
    "    query_enrichment = query_enrichment | enrich_word_set(synset.holonyms)\n",
    "    query_enrichment = query_enrichment | enrich_word_set(synset.pos_synonyms)\n",
    "    # for pos_synonym in synset.pos_synonyms:\n",
    "    #     word_set = set(normalize_string(pos_synonym.title).split())\n",
    "    #     hypernyms = hypernyms.union(word_set)\n",
    "# hypernyms"
   ]
  },
  {
   "cell_type": "code",
   "execution_count": 83,
   "id": "3c24885f-61d8-4df7-ada6-5240b1844e97",
   "metadata": {},
   "outputs": [
    {
     "data": {
      "text/plain": [
       "{'денег',\n",
       " 'денежный',\n",
       " 'деньга',\n",
       " 'деньгам',\n",
       " 'деньгами',\n",
       " 'деньгах',\n",
       " 'деньге',\n",
       " 'деньги',\n",
       " 'деньгой',\n",
       " 'деньгою',\n",
       " 'деньгу',\n",
       " 'знак',\n",
       " 'процесс',\n",
       " 'физический',\n",
       " 'финансы',\n",
       " 'эмиссией',\n",
       " 'эмиссиею',\n",
       " 'эмиссии',\n",
       " 'эмиссий',\n",
       " 'эмиссию',\n",
       " 'эмиссия',\n",
       " 'эмиссиям',\n",
       " 'эмиссиями',\n",
       " 'эмиссиях'}"
      ]
     },
     "execution_count": 83,
     "metadata": {},
     "output_type": "execute_result"
    }
   ],
   "source": [
    "query_enrichment | query"
   ]
  },
  {
   "cell_type": "code",
   "execution_count": 79,
   "id": "e473d226-9110-43c7-bbae-c3140d56366c",
   "metadata": {},
   "outputs": [
    {
     "data": {
      "text/plain": [
       "['деньгами',\n",
       " 'денег',\n",
       " 'деньгою',\n",
       " 'деньги',\n",
       " 'деньга',\n",
       " 'деньгой',\n",
       " 'деньгу',\n",
       " 'эмиссий',\n",
       " 'эмиссиям',\n",
       " 'эмиссии',\n",
       " 'эмиссию',\n",
       " 'эмиссиею',\n",
       " 'деньге',\n",
       " 'эмиссиями',\n",
       " 'деньгам',\n",
       " 'эмиссия',\n",
       " 'деньгах',\n",
       " 'эмиссией',\n",
       " 'эмиссиях']"
      ]
     },
     "execution_count": 79,
     "metadata": {},
     "output_type": "execute_result"
    }
   ],
   "source": [
    "query"
   ]
  },
  {
   "cell_type": "code",
   "execution_count": null,
   "id": "7f79f91f-eae1-476d-aafc-df39ccb4c164",
   "metadata": {},
   "outputs": [],
   "source": []
  }
 ],
 "metadata": {
  "kernelspec": {
   "display_name": "Python 3 (ipykernel)",
   "language": "python",
   "name": "python3"
  },
  "language_info": {
   "codemirror_mode": {
    "name": "ipython",
    "version": 3
   },
   "file_extension": ".py",
   "mimetype": "text/x-python",
   "name": "python",
   "nbconvert_exporter": "python",
   "pygments_lexer": "ipython3",
   "version": "3.11.0"
  }
 },
 "nbformat": 4,
 "nbformat_minor": 5
}
