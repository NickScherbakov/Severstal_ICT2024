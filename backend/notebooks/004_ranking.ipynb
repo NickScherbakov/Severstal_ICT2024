{
 "cells": [
  {
   "cell_type": "code",
   "execution_count": 1,
   "id": "bd6c4950-a038-47ea-9445-95f606ecafb4",
   "metadata": {},
   "outputs": [],
   "source": [
    "import os\n",
    "os.chdir('../')"
   ]
  },
  {
   "cell_type": "code",
   "execution_count": 2,
   "id": "9039d8d8-de33-493a-bdca-f38c10333238",
   "metadata": {},
   "outputs": [],
   "source": [
    "%load_ext autoreload\n",
    "%autoreload 2"
   ]
  },
  {
   "cell_type": "code",
   "execution_count": 3,
   "id": "bea6ef80-471e-4e08-a7d9-db8383d41fac",
   "metadata": {},
   "outputs": [],
   "source": [
    "import pandas as pd\n",
    "import numpy as np\n",
    "from search.search import SearchEngine\n",
    "from extract import *"
   ]
  },
  {
   "cell_type": "code",
   "execution_count": 5,
   "id": "c91ba898-6bf5-4fe9-9225-36ab0647c636",
   "metadata": {
    "tags": []
   },
   "outputs": [
    {
     "name": "stdout",
     "output_type": "stream",
     "text": [
      "CPU times: user 655 ms, sys: 14.6 ms, total: 669 ms\n",
      "Wall time: 686 ms\n"
     ]
    }
   ],
   "source": [
    "%%time\n",
    "se = SearchEngine()\n",
    "entities = read_entities('analytics/documents.json')\n",
    "\n",
    "se.bulk_index_entities(entities)"
   ]
  },
  {
   "cell_type": "code",
   "execution_count": 6,
   "id": "1c5b4ec6-48b5-4bb6-9a15-6ca1c88359ee",
   "metadata": {},
   "outputs": [
    {
     "data": {
      "text/plain": [
       "[('https://cbr.ru/analytics/bank_system/Exp13_04/@8165622134412342859', 1),\n",
       " ('https://cbr.ru/calendar/#t2@1105025297376393853', 1),\n",
       " ('https://cbr.ru/analytics/bank_system/din_razv_15_10/@5851615948682296164',\n",
       "  1),\n",
       " ('https://cbr.ru/calendar/#t2@6788235839429530693', 1),\n",
       " ('https://cbr.ru/calendar/#t2@5961419529475090235', 1),\n",
       " ('https://cbr.ru/calendar/#t2@6587830152639575643', 1),\n",
       " ('https://cbr.ru/banking_sector/credit/coinfo/?id=400000023@-6357363732195725815',\n",
       "  1),\n",
       " ('https://cbr.ru/analytics/bank_system/din_razv_15_02/@-7345038016903244762',\n",
       "  1),\n",
       " ('https://cbr.ru/banking_sector/credit/coinfo/?id=710000045@-6598431995022325793',\n",
       "  1),\n",
       " ('https://cbr.ru/analytics/bank_system/din_razv_16_04/@2621582165862132952',\n",
       "  1)]"
      ]
     },
     "execution_count": 6,
     "metadata": {},
     "output_type": "execute_result"
    }
   ],
   "source": [
    "se.smart_search('банк')"
   ]
  },
  {
   "cell_type": "code",
   "execution_count": 4,
   "id": "63089faa-5021-4f68-bf57-54ce8e60c2f6",
   "metadata": {},
   "outputs": [],
   "source": [
    "import pickle"
   ]
  },
  {
   "cell_type": "code",
   "execution_count": 6,
   "id": "8da7a1f6-4259-493c-997c-7141744dfd41",
   "metadata": {},
   "outputs": [
    {
     "data": {
      "text/plain": [
       "<search.search.SearchEngine at 0x14a71d790>"
      ]
     },
     "execution_count": 6,
     "metadata": {},
     "output_type": "execute_result"
    }
   ],
   "source": [
    "se"
   ]
  },
  {
   "cell_type": "code",
   "execution_count": 8,
   "id": "abfe16fc-2672-4438-a823-73ce289bfbf1",
   "metadata": {},
   "outputs": [],
   "source": [
    "pickle.dump(se, open('search.pkl', 'wb'))"
   ]
  },
  {
   "cell_type": "code",
   "execution_count": 5,
   "id": "0a90c200-31d7-43a8-9195-36665e0c8a52",
   "metadata": {},
   "outputs": [
    {
     "data": {
      "text/plain": [
       "<search.search.SearchEngine at 0x133613130>"
      ]
     },
     "execution_count": 5,
     "metadata": {},
     "output_type": "execute_result"
    }
   ],
   "source": [
    "loaded_se = pickle.load(open('search.pkl', 'rb'))\n",
    "loaded_se"
   ]
  },
  {
   "cell_type": "code",
   "execution_count": 6,
   "id": "f6807c90-da12-4908-bc80-3a151c30c2e4",
   "metadata": {},
   "outputs": [
    {
     "data": {
      "text/plain": [
       "[('https://cbr.ru/banking_sector/credit/FullCoList/@11697539444930777929',\n",
       "  0.15355627043642192),\n",
       " ('https://cbr.ru/registries/nps/oper_zip/@11990872770296143492',\n",
       "  0.14696566609751535),\n",
       " ('https://cbr.ru/hd_base/infodirectrepousd/@17865824223772606500',\n",
       "  0.1383504373952472),\n",
       " ('https://cbr.ru/banking_sector/credit/coinfo/?id=350000004@9958357458796590883',\n",
       "  0.1383504373952472),\n",
       " ('https://cbr.ru/hd_base/infodirectreporub/@3087914180279970663',\n",
       "  0.13226909948776383),\n",
       " ('https://cbr.ru/hd_base/bankpapers/@16027420484538685728',\n",
       "  0.11222832683810263),\n",
       " ('https://cbr.ru/banking_sector/credit/coinfo/?id=460000022@9579957001126118664',\n",
       "  0.10287596626826073),\n",
       " ('https://cbr.ru/banking_sector/credit/coinfo/?id=450000203@11681252705765210661',\n",
       "  0.10287596626826073),\n",
       " ('https://cbr.ru/analytics/insideinfo/@14438311283264946717',\n",
       "  0.10287596626826073),\n",
       " ('https://cbr.ru/analytics/insideinfo/@431226185384911881',\n",
       "  0.10287596626826073)]"
      ]
     },
     "execution_count": 6,
     "metadata": {},
     "output_type": "execute_result"
    }
   ],
   "source": [
    "loaded_se.search('банк')"
   ]
  },
  {
   "cell_type": "markdown",
   "id": "0c8af78d-1491-4030-9526-52e72e91c13b",
   "metadata": {},
   "source": [
    "- по всем словам считать idf\n",
    "- по всем документам посчитать среднюю длину\n",
    "- tf по одному документу\n",
    "- длина документа"
   ]
  },
  {
   "cell_type": "code",
   "execution_count": 74,
   "id": "d089ac84-1d90-428f-8c78-e6adbd26eba7",
   "metadata": {},
   "outputs": [],
   "source": [
    "def calc_factors(query, doc):\n",
    "    static_factors = calc_static_factors(doc)\n",
    "    dynamic_factors = calc_dynamic_factors('банк', doc)\n",
    "\n",
    "    factors = static_factors | dynamic_factors\n",
    "    return factors\n",
    "\n",
    "def factors_to_list(query, url, factors):\n",
    "    ordered_factors = sorted(factors.items(), key=lambda x: x[0])\n",
    "    factor_values = list(map(lambda x: x[1], ordered_factors))\n",
    "    return [query, url] + factor_values"
   ]
  },
  {
   "cell_type": "code",
   "execution_count": 6,
   "id": "5d1c5703-9cb6-4d33-95fd-33dc98934220",
   "metadata": {
    "tags": []
   },
   "outputs": [],
   "source": [
    "query = 'банк'\n",
    "words = normalize_string(query).split()\n",
    "candidates = se.get_candidates(words)\n",
    "\n",
    "candidates_to_rank = []\n",
    "for candidate in candidates:\n",
    "    doc = se._documents[candidate]\n",
    "    factors = calc_factors(words, doc)\n",
    "    factors = factors_to_list(query, candidate, factors)\n",
    "    candidates_to_rank.append(factors)"
   ]
  },
  {
   "cell_type": "code",
   "execution_count": null,
   "id": "96dca1ca-0231-4f41-b454-058d53aec2f2",
   "metadata": {},
   "outputs": [],
   "source": []
  },
  {
   "cell_type": "code",
   "execution_count": 8,
   "id": "26b30a82-3547-4f16-80c2-7887b520d2a1",
   "metadata": {},
   "outputs": [
    {
     "name": "stderr",
     "output_type": "stream",
     "text": [
      "[autoreload of search.rank failed: Traceback (most recent call last):\n",
      "  File \"/Users/svkov42/miniconda3/envs/ds/lib/python3.9/site-packages/IPython/extensions/autoreload.py\", line 276, in check\n",
      "    superreload(m, reload, self.old_objects)\n",
      "  File \"/Users/svkov42/miniconda3/envs/ds/lib/python3.9/site-packages/IPython/extensions/autoreload.py\", line 475, in superreload\n",
      "    module = reload(module)\n",
      "  File \"/Users/svkov42/miniconda3/envs/ds/lib/python3.9/importlib/__init__.py\", line 169, in reload\n",
      "    _bootstrap._exec(spec, module)\n",
      "  File \"<frozen importlib._bootstrap>\", line 613, in _exec\n",
      "  File \"<frozen importlib._bootstrap_external>\", line 846, in exec_module\n",
      "  File \"<frozen importlib._bootstrap_external>\", line 983, in get_code\n",
      "  File \"<frozen importlib._bootstrap_external>\", line 913, in source_to_code\n",
      "  File \"<frozen importlib._bootstrap>\", line 228, in _call_with_frames_removed\n",
      "  File \"/Users/svkov42/Documents/Severstal_ICT2024/analytics/search/rank.py\", line 6\n",
      "    return sorted(candidates, key=lambda x: x[])\n",
      "                                              ^\n",
      "SyntaxError: invalid syntax\n",
      "]\n"
     ]
    },
    {
     "data": {
      "text/plain": [
       "['банк',\n",
       " 'https://cbr.ru/analytics/bank_system/Exp12_02/@-8810276713486921242',\n",
       " 0,\n",
       " 0,\n",
       " 0,\n",
       " 1.1,\n",
       " 2.7333333333333334,\n",
       " 0,\n",
       " 1,\n",
       " 1,\n",
       " 1,\n",
       " 0,\n",
       " 1,\n",
       " 1,\n",
       " 0.0,\n",
       " 2.1666666666666665]"
      ]
     },
     "execution_count": 8,
     "metadata": {},
     "output_type": "execute_result"
    }
   ],
   "source": [
    "candidates_to_rank[0]"
   ]
  },
  {
   "cell_type": "code",
   "execution_count": 16,
   "id": "80cbfbf7-848a-4fb5-aebd-1ce1cdb18aa0",
   "metadata": {},
   "outputs": [
    {
     "data": {
      "text/plain": [
       "[('https://cbr.ru/banking_sector/credit/FullCoList/@-7638025034285683774',\n",
       "  0.15355627043642192),\n",
       " ('https://cbr.ru/registries/nps/oper_zip/@8801460840335433866',\n",
       "  0.14696566609751535),\n",
       " ('https://cbr.ru/hd_base/infodirectrepousd/@-580919849936945116',\n",
       "  0.1383504373952472),\n",
       " ('https://cbr.ru/banking_sector/credit/coinfo/?id=350000004@-7024088650001845899',\n",
       "  0.1383504373952472),\n",
       " ('https://cbr.ru/hd_base/infodirectreporub/@-7255443478235502537',\n",
       "  0.13226909948776383),\n",
       " ('https://cbr.ru/hd_base/bankpapers/@-2831756634420824408',\n",
       "  0.11222832683810263),\n",
       " ('https://cbr.ru/banking_sector/credit/coinfo/?id=460000022@-7402489107672318118',\n",
       "  0.10287596626826073),\n",
       " ('https://cbr.ru/banking_sector/credit/coinfo/?id=450000203@-5301193403033226121',\n",
       "  0.10287596626826073),\n",
       " ('https://cbr.ru/analytics/insideinfo/@-4008432790444604899',\n",
       "  0.10287596626826073),\n",
       " ('https://cbr.ru/analytics/insideinfo/@431226185384911881',\n",
       "  0.10287596626826073)]"
      ]
     },
     "execution_count": 16,
     "metadata": {},
     "output_type": "execute_result"
    }
   ],
   "source": [
    "se.search('банк')"
   ]
  },
  {
   "cell_type": "markdown",
   "id": "dc40f7a4-7488-4d89-9f67-16091a0fc624",
   "metadata": {},
   "source": [
    "# Факторы\n",
    "\n",
    "## Статические\n",
    "\n",
    "- is_cbr\n",
    "- is_wiki\n",
    "- is_html_table\n",
    "- is_pdf_table\n",
    "- is_series - временной ряд или нет\n",
    "- float_ratio\n",
    "- datetime_ratio\n",
    "- str_ratio\n",
    "\n",
    "## Динамические\n",
    "\n",
    "- bm25\n",
    "- idf\n",
    "- bm25 - синонимы\n",
    "- log_word_count - логарифм количества слов в запросе \n",
    "- is_report - если есть слово \"отчет\""
   ]
  },
  {
   "cell_type": "code",
   "execution_count": 19,
   "id": "f2d6881b-13fb-4af9-a87d-4c8e0c373041",
   "metadata": {},
   "outputs": [],
   "source": [
    "def calc_static_factors(entity):\n",
    "    return {\n",
    "        'is_cbr': calc_is_cbr(entity),\n",
    "        'is_wiki': calc_is_wiki(entity),\n",
    "        'is_html_table': calc_is_html_table(entity),\n",
    "        'is_pdf_table': calc_is_pdf_table(entity),\n",
    "        'is_series': calc_is_series(entity),\n",
    "        'float_ratio': calc_float_ratio(entity),\n",
    "        'datetime_ratio': calc_datetime_ratio(entity),\n",
    "        'str_ratio': calc_str_ratio(entity),\n",
    "    }"
   ]
  },
  {
   "cell_type": "code",
   "execution_count": 61,
   "id": "a27a0d89-664f-4e65-9679-e86b2dbee785",
   "metadata": {},
   "outputs": [],
   "source": [
    "def calc_is_cbr(entity):\n",
    "    return 1\n",
    "\n",
    "def calc_is_wiki(entity):\n",
    "    return 1\n",
    "\n",
    "def calc_is_html_table(entity):\n",
    "    return 1\n",
    "\n",
    "def calc_is_pdf_table(entity):\n",
    "    return 1\n",
    "\n",
    "def calc_is_series(entity):\n",
    "    return 1\n",
    "\n",
    "def calc_float_ratio(entity):\n",
    "    return entity.get('float_per_row', 0)\n",
    "\n",
    "def calc_datetime_ratio(entity):\n",
    "    return entity.get('datetime_per_row', 0)\n",
    "\n",
    "def calc_str_ratio(entity):\n",
    "    return entity.get('str_per_row', 0)"
   ]
  },
  {
   "cell_type": "code",
   "execution_count": 62,
   "id": "49abf48c-71ba-43b1-a2a7-55a8cf28930d",
   "metadata": {},
   "outputs": [
    {
     "data": {
      "text/plain": [
       "{'is_cbr': 1,\n",
       " 'is_wiki': 1,\n",
       " 'is_html_table': 1,\n",
       " 'is_pdf_table': 1,\n",
       " 'is_series': 1,\n",
       " 'float_ratio': 2.8136094674556213,\n",
       " 'datetime_ratio': 1.1198224852071006,\n",
       " 'str_ratio': 3.587278106508876}"
      ]
     },
     "execution_count": 62,
     "metadata": {},
     "output_type": "execute_result"
    }
   ],
   "source": [
    "calc_static_factors(entities[0])"
   ]
  },
  {
   "cell_type": "code",
   "execution_count": 63,
   "id": "fd91b634-9bc5-481f-aade-5d5a98081c20",
   "metadata": {},
   "outputs": [],
   "source": [
    "def calc_dynamic_factors(query, entity):\n",
    "    words = normalize_string(query).split()\n",
    "    return {\n",
    "        'bm25': calc_bm25(words, entity),\n",
    "        'idf_sum': calc_idf_sum(words, entity),\n",
    "        'bm25sy': calc_bm25sy(words, entity),\n",
    "        'bm25tr': calc_bm25tr(words, entity),\n",
    "        'log_word_count': calc_log_word_count(words, entity),\n",
    "        'is_report': calc_is_report(words, entity),\n",
    "    }"
   ]
  },
  {
   "cell_type": "code",
   "execution_count": 64,
   "id": "fb3760fd-bc98-4efc-94dd-caf1a3f7f0a2",
   "metadata": {},
   "outputs": [],
   "source": [
    "\n",
    "def calc_bm25(words, entity, words_freq, idf, advl, k1=1.5, b=0.75):\n",
    "    bm25 = 0\n",
    "    tf = 0\n",
    "    entity = normalize_entity(entity).split()\n",
    "    for i, word in enumerate(words):\n",
    "        \n",
    "        freq = words_freq[i]\n",
    "        numerator = freq * (k1 + 1)\n",
    "        denominator = freq + k1 * (\n",
    "            1 - b + b * len(entity) / avdl\n",
    "        )\n",
    "        idf_score * numerator / denominator\n",
    "    return 0\n",
    "\n",
    "def calc_idf_sum(words, entity):\n",
    "    return 0\n",
    "\n",
    "def calc_bm25sy(words, entity):\n",
    "    return 0\n",
    "\n",
    "def calc_bm25tr(words, entity):\n",
    "    \"\"\"bm25 translated\"\"\"\n",
    "    return 0\n",
    "\n",
    "def calc_log_word_count(words, entity):\n",
    "    return np.log(len(words))\n",
    "\n",
    "def calc_is_report(words, entity):\n",
    "    return 0"
   ]
  },
  {
   "cell_type": "code",
   "execution_count": 65,
   "id": "770d5d10-2344-4ec9-89d9-5f2a20611714",
   "metadata": {},
   "outputs": [
    {
     "data": {
      "text/plain": [
       "{'bm25': 0,\n",
       " 'idf_sum': 0,\n",
       " 'bm25sy': 0,\n",
       " 'bm25tr': 0,\n",
       " 'log_word_count': 0.6931471805599453,\n",
       " 'is_report': 0}"
      ]
     },
     "execution_count": 65,
     "metadata": {},
     "output_type": "execute_result"
    }
   ],
   "source": [
    "calc_dynamic_factors('банк яндекс', entities)"
   ]
  },
  {
   "cell_type": "markdown",
   "id": "ff826b8a-974d-4eae-aae2-e1f546af2fe7",
   "metadata": {},
   "source": [
    "# Разное"
   ]
  },
  {
   "cell_type": "code",
   "execution_count": 14,
   "id": "e0de4b9d-8e6c-43da-89e4-9a5fca3c34ed",
   "metadata": {},
   "outputs": [],
   "source": [
    "entities_dict = apply_to_data(entities, jsonify_df)\n",
    "\n"
   ]
  },
  {
   "cell_type": "code",
   "execution_count": 17,
   "id": "68de1810-91ce-4937-a7d5-42c553c52de7",
   "metadata": {},
   "outputs": [
    {
     "ename": "TypeError",
     "evalue": "Strings must be encoded before hashing",
     "output_type": "error",
     "traceback": [
      "\u001b[0;31m---------------------------------------------------------------------------\u001b[0m",
      "\u001b[0;31mTypeError\u001b[0m                                 Traceback (most recent call last)",
      "Cell \u001b[0;32mIn[17], line 1\u001b[0m\n\u001b[0;32m----> 1\u001b[0m hash_entity(\u001b[38;5;28mstr\u001b[39m(entities[\u001b[38;5;241m0\u001b[39m]))\n",
      "File \u001b[0;32m~/Documents/Severstal_ICT2024/backend/extract/utils.py:7\u001b[0m, in \u001b[0;36mhash_entity\u001b[0;34m(entity)\u001b[0m\n\u001b[1;32m      5\u001b[0m \u001b[38;5;28;01mdef\u001b[39;00m \u001b[38;5;21mhash_entity\u001b[39m(entity):\n\u001b[1;32m      6\u001b[0m     h \u001b[38;5;241m=\u001b[39m hashlib\u001b[38;5;241m.\u001b[39msha1()\n\u001b[0;32m----> 7\u001b[0m     h\u001b[38;5;241m.\u001b[39mupdate(entity)\n\u001b[1;32m      8\u001b[0m     \u001b[38;5;28;01mreturn\u001b[39;00m h\u001b[38;5;241m.\u001b[39mhexdigest()\n",
      "\u001b[0;31mTypeError\u001b[0m: Strings must be encoded before hashing"
     ]
    }
   ],
   "source": [
    "hash_entity(str(entities[0]))"
   ]
  },
  {
   "cell_type": "code",
   "execution_count": 23,
   "id": "3888565e-dc13-45f3-a0ea-1bb34a31a260",
   "metadata": {
    "tags": []
   },
   "outputs": [
    {
     "data": {
      "text/plain": [
       "2662366884839913946"
      ]
     },
     "execution_count": 23,
     "metadata": {},
     "output_type": "execute_result"
    }
   ],
   "source": [
    "hash_entity(entities[0])"
   ]
  },
  {
   "cell_type": "code",
   "execution_count": 20,
   "id": "36890830-03bb-47f7-bd67-adb75203343e",
   "metadata": {},
   "outputs": [
    {
     "data": {
      "text/plain": [
       "2662366884839913946"
      ]
     },
     "execution_count": 20,
     "metadata": {},
     "output_type": "execute_result"
    }
   ],
   "source": [
    "hash(frozenset(entities[0].items()))"
   ]
  },
  {
   "cell_type": "code",
   "execution_count": null,
   "id": "478ac0b5-ec54-42dc-8d64-c71dac7fa448",
   "metadata": {},
   "outputs": [],
   "source": []
  }
 ],
 "metadata": {
  "kernelspec": {
   "display_name": "Python 3 (ipykernel)",
   "language": "python",
   "name": "python3"
  },
  "language_info": {
   "codemirror_mode": {
    "name": "ipython",
    "version": 3
   },
   "file_extension": ".py",
   "mimetype": "text/x-python",
   "name": "python",
   "nbconvert_exporter": "python",
   "pygments_lexer": "ipython3",
   "version": "3.11.0"
  }
 },
 "nbformat": 4,
 "nbformat_minor": 5
}
