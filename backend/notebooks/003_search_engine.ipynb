{
 "cells": [
  {
   "cell_type": "code",
   "execution_count": 2,
   "id": "54bf8159-f760-4210-b798-ff386ac53e11",
   "metadata": {},
   "outputs": [],
   "source": [
    "import os\n",
    "os.chdir('../')"
   ]
  },
  {
   "cell_type": "code",
   "execution_count": 72,
   "id": "b4c0b62b-6189-46e7-af5e-f52f3d6e1793",
   "metadata": {},
   "outputs": [],
   "source": [
    "from extract import *\n",
    "import string\n",
    "import re\n",
    "from collections import defaultdict\n",
    "from math import log"
   ]
  },
  {
   "cell_type": "code",
   "execution_count": 4,
   "id": "afee7f40-aff6-4c9a-8b98-8a723d5efe85",
   "metadata": {},
   "outputs": [],
   "source": [
    "%load_ext autoreload\n",
    "%autoreload 2"
   ]
  },
  {
   "cell_type": "code",
   "execution_count": 114,
   "id": "888b8f3d-9bfa-4722-a280-6634a7ab56d2",
   "metadata": {},
   "outputs": [],
   "source": [
    "def update_url_scores(old: dict[str, float], new: dict[str, float]):\n",
    "    for url, score in new.items():\n",
    "        if url in old:\n",
    "            old[url] += score\n",
    "        else:\n",
    "            old[url] = score\n",
    "    return old\n",
    "\n",
    "class SearchEngine:\n",
    "    def __init__(self, k1: float = 1.5, b: float = 0.75):\n",
    "        self._index: dict[str, dict[str, int]] = defaultdict(lambda: defaultdict(int))\n",
    "        self._documents: dict[str, str] = {}\n",
    "        self.k1 = k1\n",
    "        self.b = b\n",
    "\n",
    "    @property\n",
    "    def posts(self) -> list[str]:\n",
    "        return list(self._documents.keys())\n",
    "\n",
    "    @property\n",
    "    def number_of_documents(self) -> int:\n",
    "        return len(self._documents)\n",
    "\n",
    "    @property\n",
    "    def avdl(self) -> float:\n",
    "        # todo: refactor this. it can be slow to compute it every time. compute it once and cache it\n",
    "        return sum(len(d) for d in self._documents.values()) / len(self._documents)\n",
    "\n",
    "    def idf(self, kw: str) -> float:\n",
    "        N = self.number_of_documents\n",
    "        n_kw = len(self.get_urls(kw))\n",
    "        return log((N - n_kw + 0.5) / (n_kw + 0.5) + 1)\n",
    "\n",
    "    def bm25(self, kw: str) -> dict[str, float]:\n",
    "        result = {}\n",
    "        idf_score = self.idf(kw)\n",
    "        avdl = self.avdl\n",
    "        for url, freq in self.get_urls(kw).items():\n",
    "            numerator = freq * (self.k1 + 1)\n",
    "            denominator = freq + self.k1 * (\n",
    "                1 - self.b + self.b * len(self._documents[url]) / avdl\n",
    "            )\n",
    "            result[url] = idf_score * numerator / denominator\n",
    "        return result\n",
    "\n",
    "    def search(self, query: str, top_n=10) -> dict[str, float]:\n",
    "        keywords = normalize_string(query).split(\" \")\n",
    "        url_scores: dict[str, float] = {}\n",
    "        for kw in keywords:\n",
    "            kw_urls_score = self.bm25(kw)\n",
    "            url_scores = update_url_scores(url_scores, kw_urls_score)\n",
    "        \n",
    "        url_scores = sorted(url_scores.items(), key=lambda x: x[1], reverse=True)[:10]\n",
    "        return url_scores\n",
    "\n",
    "    def index(self, url: str, content: str) -> None:\n",
    "        self._documents[url] = content\n",
    "        words = content.split()\n",
    "        # words = normalize_string(content).split(\" \")\n",
    "        for word in words:\n",
    "            self._index[word][url] += 1\n",
    "\n",
    "    def index_entity(self, entity):\n",
    "        entity_id = get_entity_id(entity)\n",
    "        raw_content = entity['meta']\n",
    "        raw_df_content = get_text_from_df_v2(entity['frame'])\n",
    "        search_content = normalize_string(entity['meta']) + '\\n' + normalize_string(raw_df_content)\n",
    "        self.index(entity_id, search_content)\n",
    "\n",
    "    def bulk_index(self, documents: list[tuple[str, str]]):\n",
    "        for url, content in documents:\n",
    "            self.index(url, content)\n",
    "\n",
    "    def get_urls(self, keyword: str) -> dict[str, int]:\n",
    "        keyword = normalize_string(keyword)\n",
    "        return self._index[keyword]"
   ]
  },
  {
   "cell_type": "code",
   "execution_count": 7,
   "id": "e39e9b74-0ec4-4b25-a54c-ed6c860cc412",
   "metadata": {
    "collapsed": true,
    "jupyter": {
     "outputs_hidden": true
    },
    "tags": []
   },
   "outputs": [
    {
     "data": {
      "text/plain": [
       "{'url': 'https://cbr.ru/banking_sector/credit/FullCoList/',\n",
       " 'frame':        0              1       2              3                          4  \\\n",
       " 0                                                                           \n",
       " 1      1                   2896  1021500000147            ПАО АКБ «1Банк»   \n",
       " 2      2                   2306  1027700024560   АКБ «Абсолют Банк» (ПАО)   \n",
       " 3      3                   2879  1027700367507         ПАО АКБ «АВАНГАРД»   \n",
       " 4      4                    415  1231600067654            АО Банк «Аверс»   \n",
       " ..   ...            ...     ...            ...                        ...   \n",
       " 671  671                   3467  1067711004437           АО КБ «ЮНИСТРИМ»   \n",
       " 672  672  Расчетная НКО  3549-К  1247700338049  РНКО «Юнона Финанс» (ООО)   \n",
       " 673  673  Расчетная НКО  3541-К  1217700542344           ООО РНКО «ЮСиЭс»   \n",
       " 674  674                   3027  1077711000091           АО «Яндекс Банк»   \n",
       " 675  675                   2564  1027600000075   ИКБР «ЯРИНТЕРБАНК» (ООО)   \n",
       " \n",
       "                 5           6    7  \\\n",
       " 0                                    \n",
       " 1             ПАО  10.06.1994  ОТЗ   \n",
       " 2             ПАО  22.04.1993        \n",
       " 3             ПАО  09.06.1994        \n",
       " 4            НПАО  25.09.1990        \n",
       " ..            ...         ...  ...   \n",
       " 671          НПАО  31.05.2006        \n",
       " 672  ООО (Паевое)  24.04.2024        \n",
       " 673  ООО (Паевое)  12.11.2021  АНН   \n",
       " 674          НПАО  04.08.1994        \n",
       " 675  ООО (Паевое)  01.11.1993        \n",
       " \n",
       "                                                      8  \n",
       " 0                                                       \n",
       " 1    362040, Республика Северная Осетия-Алания, г.В...  \n",
       " 2           127051,  г. Москва, Цветной бульвар, д. 18  \n",
       " 3        119180,  г. Москва, ул. Большая Якиманка, д.1  \n",
       " 4               420111, г.Казань, ул.Мусы Джалиля, д.3  \n",
       " ..                                                 ...  \n",
       " 671  127083, г. Москва, ул. Верхняя Масловка, д. 20...  \n",
       " 672  127015, Российская Федерация, город Москва, ул...  \n",
       " 673    117449, г. Москва, ул. Новочерёмушкинская, д.10  \n",
       " 674  115035, г. Москва, ул. Садовническая, д. 82 ст...  \n",
       " 675             150000, г.Ярославль, ул.Собинова, д.30  \n",
       " \n",
       " [676 rows x 9 columns],\n",
       " 'meta': '    Список кредитных организаций, зарегистрированных на территории Российской Федерации по состоянию на 07.06.2024 | Банк России',\n",
       " 'float_val_count': 1902,\n",
       " 'datetime_val_count': 757,\n",
       " 'na_val_count': 1000,\n",
       " 'str_val_count': 2425,\n",
       " 'total_count': 6084,\n",
       " 'rows_total': 676,\n",
       " 'cols_total': 9,\n",
       " 'na_ratio': 0.16436554898093358,\n",
       " 'datetime_per_row': 1.1198224852071006,\n",
       " 'float_per_row': 2.8136094674556213,\n",
       " 'str_per_row': 3.587278106508876}"
      ]
     },
     "execution_count": 7,
     "metadata": {},
     "output_type": "execute_result"
    }
   ],
   "source": [
    "entities = read_entities('documents.json')\n",
    "entities[0]"
   ]
  },
  {
   "cell_type": "code",
   "execution_count": 8,
   "id": "492da8d3-10cc-4a7b-b516-4e3e5bd5f338",
   "metadata": {},
   "outputs": [],
   "source": [
    "test_entity = entities[0]"
   ]
  },
  {
   "cell_type": "code",
   "execution_count": 9,
   "id": "53225ae0-3d63-49c3-b585-1f3bc246aa34",
   "metadata": {},
   "outputs": [
    {
     "data": {
      "text/plain": [
       "'    Список кредитных организаций, зарегистрированных на территории Российской Федерации по состоянию на 07.06.2024 | Банк России'"
      ]
     },
     "execution_count": 9,
     "metadata": {},
     "output_type": "execute_result"
    }
   ],
   "source": [
    "test_entity['meta']"
   ]
  },
  {
   "cell_type": "code",
   "execution_count": 29,
   "id": "267451bc-77ac-447a-8ee0-fd5d458195dd",
   "metadata": {},
   "outputs": [],
   "source": [
    "def normalize_whitespace(s):\n",
    "    s = re.sub(\"\\s+\", \" \", s)\n",
    "    return s.strip()\n",
    "\n",
    "def normalize_whitespace_v2(s):\n",
    "    return ' '.join(s.split())\n",
    "\n",
    "def normalize_punctuation(input_string: str) -> str:\n",
    "    return re.sub(r\"[^\\w\\s]+\", ' ', input_string)\n",
    "\n",
    "def normalize_case(s):\n",
    "    return s.lower()\n",
    "\n",
    "def normalize_string(s):\n",
    "    pipeline = [\n",
    "        normalize_case,\n",
    "        normalize_whitespace,\n",
    "        normalize_whitespace_v2,\n",
    "        normalize_punctuation,\n",
    "    ]\n",
    "    for op in pipeline:\n",
    "        s = op(s)\n",
    "    return s"
   ]
  },
  {
   "cell_type": "code",
   "execution_count": 97,
   "id": "66f3c08c-ed93-4165-a009-5687dbb2b85e",
   "metadata": {},
   "outputs": [],
   "source": [
    "def hash_df(df):\n",
    "    return pd.util.hash_pandas_object(df, index=True).sum()\n",
    "\n",
    "def get_entity_id(entity):\n",
    "    return f'{entity[\"url\"]}@{hash_df(entity[\"frame\"])}'\n",
    "\n",
    "def get_url_from_entity_id(entity_id):\n",
    "    return '@'.join(entity_id.split('@')[:-1])\n",
    "\n",
    "def get_text_from_df(df):\n",
    "    texts = []\n",
    "    for i in test_entity['frame'].values:\n",
    "        for j in i:\n",
    "            if get_type(j) == 'str':\n",
    "                texts.append(j)\n",
    "    text_doc = '\\n'.join(texts)\n",
    "    return text_doc\n",
    "\n",
    "def get_text_from_df_v2(df):\n",
    "    return normalize_string(df.to_string())\n"
   ]
  },
  {
   "cell_type": "code",
   "execution_count": 78,
   "id": "58206623-e631-42ae-a8fc-fe354843d9db",
   "metadata": {},
   "outputs": [],
   "source": [
    "from tqdm import tqdm"
   ]
  },
  {
   "cell_type": "code",
   "execution_count": 88,
   "id": "6c82417a-7994-4224-b356-2403591c64e4",
   "metadata": {},
   "outputs": [
    {
     "name": "stdout",
     "output_type": "stream",
     "text": [
      "403 ms ± 24.3 ms per loop (mean ± std. dev. of 7 runs, 1 loop each)\n"
     ]
    }
   ],
   "source": [
    "%%timeit\n",
    "\n",
    "get_text_from_df(entities[0]['frame'])"
   ]
  },
  {
   "cell_type": "code",
   "execution_count": 99,
   "id": "6f48608a-78aa-4143-964c-497c5d13b6dd",
   "metadata": {},
   "outputs": [
    {
     "name": "stdout",
     "output_type": "stream",
     "text": [
      "17 ms ± 431 µs per loop (mean ± std. dev. of 7 runs, 100 loops each)\n"
     ]
    }
   ],
   "source": [
    "%%timeit\n",
    "\n",
    "get_text_from_df_v2(entities[0]['frame'])"
   ]
  },
  {
   "cell_type": "code",
   "execution_count": 115,
   "id": "d716e240-0dc6-4712-9abb-a2fedc147262",
   "metadata": {},
   "outputs": [
    {
     "name": "stderr",
     "output_type": "stream",
     "text": [
      "100%|████████████████████████████████████████| 141/141 [00:00<00:00, 319.97it/s]\n"
     ]
    }
   ],
   "source": [
    "se = SearchEngine()\n",
    "\n",
    "for entity in tqdm(entities):\n",
    "    se.index_entity(entity)"
   ]
  },
  {
   "cell_type": "code",
   "execution_count": 112,
   "id": "1df2aaae-3396-45ee-ab50-c717cd9d9c1c",
   "metadata": {},
   "outputs": [
    {
     "name": "stderr",
     "output_type": "stream",
     "text": [
      "100%|████████████████████████████████████████| 141/141 [00:00<00:00, 299.14it/s]\n"
     ]
    }
   ],
   "source": [
    "se = SearchEngine()\n",
    "\n",
    "for entity in tqdm(entities):\n",
    "    entity_id = get_entity_id(entity)\n",
    "    raw_content = entity['meta']\n",
    "    raw_df_content = get_text_from_df_v2(entity['frame'])\n",
    "    search_content = normalize_string(entity['meta']) + '\\n' + normalize_string(raw_df_content)\n",
    "    se.index(entity_id, search_content)"
   ]
  },
  {
   "cell_type": "code",
   "execution_count": 116,
   "id": "13113416-8270-438f-a518-fbacef25d966",
   "metadata": {},
   "outputs": [
    {
     "data": {
      "text/plain": [
       "[('https://cbr.ru/registries/nps/oper_zip/@8801460840335433866',\n",
       "  0.148376227083583),\n",
       " ('https://cbr.ru/banking_sector/credit/FullCoList/@-7638025034285683774',\n",
       "  0.1448388839655293),\n",
       " ('https://cbr.ru/banking_sector/credit/coinfo/?id=460000022@-7402489107672318118',\n",
       "  0.13410096480527095),\n",
       " ('https://cbr.ru/banking_sector/credit/coinfo/?id=450000203@-5301193403033226121',\n",
       "  0.1330282201650436),\n",
       " ('https://cbr.ru/banking_sector/credit/coinfo/?id=350000004@-7024088650001845899',\n",
       "  0.12914335763387438),\n",
       " ('https://cbr.ru/banking_sector/credit/coinfo/?id=10000005@599769350099677401',\n",
       "  0.1260141945050062),\n",
       " ('https://cbr.ru/banking_sector/credit/coinfo/?id=450039265@-4301329512981266293',\n",
       "  0.12596213036484183),\n",
       " ('https://cbr.ru/banking_sector/credit/coinfo/?id=980000021@2245106942322526861',\n",
       "  0.12559888251845971),\n",
       " ('https://cbr.ru/banking_sector/credit/coinfo/?id=400000023@974109305061869944',\n",
       "  0.1254954819093079),\n",
       " ('https://cbr.ru/banking_sector/credit/coinfo/?id=450000373@375707177793916657',\n",
       "  0.1254567505602405)]"
      ]
     },
     "execution_count": 116,
     "metadata": {},
     "output_type": "execute_result"
    }
   ],
   "source": [
    "se.search('банк')"
   ]
  },
  {
   "cell_type": "code",
   "execution_count": 63,
   "id": "324e113a-f231-45e1-9a9b-4083e4a19b12",
   "metadata": {},
   "outputs": [
    {
     "data": {
      "text/plain": [
       "'    Список кредитных организаций, зарегистрированных на территории Российской Федерации по состоянию на 07.06.2024 | Банк России'"
      ]
     },
     "execution_count": 63,
     "metadata": {},
     "output_type": "execute_result"
    }
   ],
   "source": [
    "test_entity['meta']"
   ]
  },
  {
   "cell_type": "code",
   "execution_count": 24,
   "id": "5a5a2d5e-95b0-4ef4-845c-764b472c470e",
   "metadata": {},
   "outputs": [
    {
     "data": {
      "text/html": [
       "<div>\n",
       "<style scoped>\n",
       "    .dataframe tbody tr th:only-of-type {\n",
       "        vertical-align: middle;\n",
       "    }\n",
       "\n",
       "    .dataframe tbody tr th {\n",
       "        vertical-align: top;\n",
       "    }\n",
       "\n",
       "    .dataframe thead th {\n",
       "        text-align: right;\n",
       "    }\n",
       "</style>\n",
       "<table border=\"1\" class=\"dataframe\">\n",
       "  <thead>\n",
       "    <tr style=\"text-align: right;\">\n",
       "      <th></th>\n",
       "      <th>0</th>\n",
       "      <th>1</th>\n",
       "      <th>2</th>\n",
       "      <th>3</th>\n",
       "      <th>4</th>\n",
       "      <th>5</th>\n",
       "      <th>6</th>\n",
       "      <th>7</th>\n",
       "      <th>8</th>\n",
       "    </tr>\n",
       "  </thead>\n",
       "  <tbody>\n",
       "    <tr>\n",
       "      <th>0</th>\n",
       "      <td></td>\n",
       "      <td></td>\n",
       "      <td></td>\n",
       "      <td></td>\n",
       "      <td></td>\n",
       "      <td></td>\n",
       "      <td></td>\n",
       "      <td></td>\n",
       "      <td></td>\n",
       "    </tr>\n",
       "    <tr>\n",
       "      <th>1</th>\n",
       "      <td>1</td>\n",
       "      <td></td>\n",
       "      <td>2896</td>\n",
       "      <td>1021500000147</td>\n",
       "      <td>ПАО АКБ «1Банк»</td>\n",
       "      <td>ПАО</td>\n",
       "      <td>10.06.1994</td>\n",
       "      <td>ОТЗ</td>\n",
       "      <td>362040, Республика Северная Осетия-Алания, г.В...</td>\n",
       "    </tr>\n",
       "    <tr>\n",
       "      <th>2</th>\n",
       "      <td>2</td>\n",
       "      <td></td>\n",
       "      <td>2306</td>\n",
       "      <td>1027700024560</td>\n",
       "      <td>АКБ «Абсолют Банк» (ПАО)</td>\n",
       "      <td>ПАО</td>\n",
       "      <td>22.04.1993</td>\n",
       "      <td></td>\n",
       "      <td>127051,  г. Москва, Цветной бульвар, д. 18</td>\n",
       "    </tr>\n",
       "    <tr>\n",
       "      <th>3</th>\n",
       "      <td>3</td>\n",
       "      <td></td>\n",
       "      <td>2879</td>\n",
       "      <td>1027700367507</td>\n",
       "      <td>ПАО АКБ «АВАНГАРД»</td>\n",
       "      <td>ПАО</td>\n",
       "      <td>09.06.1994</td>\n",
       "      <td></td>\n",
       "      <td>119180,  г. Москва, ул. Большая Якиманка, д.1</td>\n",
       "    </tr>\n",
       "    <tr>\n",
       "      <th>4</th>\n",
       "      <td>4</td>\n",
       "      <td></td>\n",
       "      <td>415</td>\n",
       "      <td>1231600067654</td>\n",
       "      <td>АО Банк «Аверс»</td>\n",
       "      <td>НПАО</td>\n",
       "      <td>25.09.1990</td>\n",
       "      <td></td>\n",
       "      <td>420111, г.Казань, ул.Мусы Джалиля, д.3</td>\n",
       "    </tr>\n",
       "    <tr>\n",
       "      <th>...</th>\n",
       "      <td>...</td>\n",
       "      <td>...</td>\n",
       "      <td>...</td>\n",
       "      <td>...</td>\n",
       "      <td>...</td>\n",
       "      <td>...</td>\n",
       "      <td>...</td>\n",
       "      <td>...</td>\n",
       "      <td>...</td>\n",
       "    </tr>\n",
       "    <tr>\n",
       "      <th>671</th>\n",
       "      <td>671</td>\n",
       "      <td></td>\n",
       "      <td>3467</td>\n",
       "      <td>1067711004437</td>\n",
       "      <td>АО КБ «ЮНИСТРИМ»</td>\n",
       "      <td>НПАО</td>\n",
       "      <td>31.05.2006</td>\n",
       "      <td></td>\n",
       "      <td>127083, г. Москва, ул. Верхняя Масловка, д. 20...</td>\n",
       "    </tr>\n",
       "    <tr>\n",
       "      <th>672</th>\n",
       "      <td>672</td>\n",
       "      <td>Расчетная НКО</td>\n",
       "      <td>3549-К</td>\n",
       "      <td>1247700338049</td>\n",
       "      <td>РНКО «Юнона Финанс» (ООО)</td>\n",
       "      <td>ООО (Паевое)</td>\n",
       "      <td>24.04.2024</td>\n",
       "      <td></td>\n",
       "      <td>127015, Российская Федерация, город Москва, ул...</td>\n",
       "    </tr>\n",
       "    <tr>\n",
       "      <th>673</th>\n",
       "      <td>673</td>\n",
       "      <td>Расчетная НКО</td>\n",
       "      <td>3541-К</td>\n",
       "      <td>1217700542344</td>\n",
       "      <td>ООО РНКО «ЮСиЭс»</td>\n",
       "      <td>ООО (Паевое)</td>\n",
       "      <td>12.11.2021</td>\n",
       "      <td>АНН</td>\n",
       "      <td>117449, г. Москва, ул. Новочерёмушкинская, д.10</td>\n",
       "    </tr>\n",
       "    <tr>\n",
       "      <th>674</th>\n",
       "      <td>674</td>\n",
       "      <td></td>\n",
       "      <td>3027</td>\n",
       "      <td>1077711000091</td>\n",
       "      <td>АО «Яндекс Банк»</td>\n",
       "      <td>НПАО</td>\n",
       "      <td>04.08.1994</td>\n",
       "      <td></td>\n",
       "      <td>115035, г. Москва, ул. Садовническая, д. 82 ст...</td>\n",
       "    </tr>\n",
       "    <tr>\n",
       "      <th>675</th>\n",
       "      <td>675</td>\n",
       "      <td></td>\n",
       "      <td>2564</td>\n",
       "      <td>1027600000075</td>\n",
       "      <td>ИКБР «ЯРИНТЕРБАНК» (ООО)</td>\n",
       "      <td>ООО (Паевое)</td>\n",
       "      <td>01.11.1993</td>\n",
       "      <td></td>\n",
       "      <td>150000, г.Ярославль, ул.Собинова, д.30</td>\n",
       "    </tr>\n",
       "  </tbody>\n",
       "</table>\n",
       "<p>676 rows × 9 columns</p>\n",
       "</div>"
      ],
      "text/plain": [
       "       0              1       2              3                          4  \\\n",
       "0                                                                           \n",
       "1      1                   2896  1021500000147            ПАО АКБ «1Банк»   \n",
       "2      2                   2306  1027700024560   АКБ «Абсолют Банк» (ПАО)   \n",
       "3      3                   2879  1027700367507         ПАО АКБ «АВАНГАРД»   \n",
       "4      4                    415  1231600067654            АО Банк «Аверс»   \n",
       "..   ...            ...     ...            ...                        ...   \n",
       "671  671                   3467  1067711004437           АО КБ «ЮНИСТРИМ»   \n",
       "672  672  Расчетная НКО  3549-К  1247700338049  РНКО «Юнона Финанс» (ООО)   \n",
       "673  673  Расчетная НКО  3541-К  1217700542344           ООО РНКО «ЮСиЭс»   \n",
       "674  674                   3027  1077711000091           АО «Яндекс Банк»   \n",
       "675  675                   2564  1027600000075   ИКБР «ЯРИНТЕРБАНК» (ООО)   \n",
       "\n",
       "                5           6    7  \\\n",
       "0                                    \n",
       "1             ПАО  10.06.1994  ОТЗ   \n",
       "2             ПАО  22.04.1993        \n",
       "3             ПАО  09.06.1994        \n",
       "4            НПАО  25.09.1990        \n",
       "..            ...         ...  ...   \n",
       "671          НПАО  31.05.2006        \n",
       "672  ООО (Паевое)  24.04.2024        \n",
       "673  ООО (Паевое)  12.11.2021  АНН   \n",
       "674          НПАО  04.08.1994        \n",
       "675  ООО (Паевое)  01.11.1993        \n",
       "\n",
       "                                                     8  \n",
       "0                                                       \n",
       "1    362040, Республика Северная Осетия-Алания, г.В...  \n",
       "2           127051,  г. Москва, Цветной бульвар, д. 18  \n",
       "3        119180,  г. Москва, ул. Большая Якиманка, д.1  \n",
       "4               420111, г.Казань, ул.Мусы Джалиля, д.3  \n",
       "..                                                 ...  \n",
       "671  127083, г. Москва, ул. Верхняя Масловка, д. 20...  \n",
       "672  127015, Российская Федерация, город Москва, ул...  \n",
       "673    117449, г. Москва, ул. Новочерёмушкинская, д.10  \n",
       "674  115035, г. Москва, ул. Садовническая, д. 82 ст...  \n",
       "675             150000, г.Ярославль, ул.Собинова, д.30  \n",
       "\n",
       "[676 rows x 9 columns]"
      ]
     },
     "execution_count": 24,
     "metadata": {},
     "output_type": "execute_result"
    }
   ],
   "source": [
    "test_entity['frame']"
   ]
  },
  {
   "cell_type": "code",
   "execution_count": null,
   "id": "fda1636d-de38-4eef-a515-17b9b8f750c6",
   "metadata": {},
   "outputs": [],
   "source": []
  }
 ],
 "metadata": {
  "kernelspec": {
   "display_name": "Python 3 (ipykernel)",
   "language": "python",
   "name": "python3"
  },
  "language_info": {
   "codemirror_mode": {
    "name": "ipython",
    "version": 3
   },
   "file_extension": ".py",
   "mimetype": "text/x-python",
   "name": "python",
   "nbconvert_exporter": "python",
   "pygments_lexer": "ipython3",
   "version": "3.9.19"
  }
 },
 "nbformat": 4,
 "nbformat_minor": 5
}
